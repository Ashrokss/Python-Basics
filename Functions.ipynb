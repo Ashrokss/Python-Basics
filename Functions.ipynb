{
 "cells": [
  {
   "cell_type": "markdown",
   "id": "0188e5a2-2a40-4d09-93e3-863a400a433e",
   "metadata": {},
   "source": [
    "# Functions in python \n"
   ]
  },
  {
   "cell_type": "markdown",
   "id": "f655f645-5039-4292-af19-e107b8ca4a36",
   "metadata": {},
   "source": [
    "Functions are block of code required to perform specific task. "
   ]
  },
  {
   "cell_type": "code",
   "execution_count": 11,
   "id": "440fe3b9-2a4d-4190-a485-3801c4f7af58",
   "metadata": {},
   "outputs": [],
   "source": [
    "# Example of function definition \n",
    "def hello():\n",
    "    print('Hello World')"
   ]
  },
  {
   "cell_type": "code",
   "execution_count": 12,
   "id": "84cf399f-f28a-449c-a729-9b17e9e3b5bf",
   "metadata": {},
   "outputs": [
    {
     "name": "stdout",
     "output_type": "stream",
     "text": [
      "Hello World\n"
     ]
    }
   ],
   "source": [
    "# Example to invoke a function (invoking functions means to allow something to run them.)\n",
    "hello()"
   ]
  },
  {
   "cell_type": "markdown",
   "id": "93f60590-f670-4cd4-88f2-d8d6d406afd5",
   "metadata": {},
   "source": [
    "# Some Examples of function  "
   ]
  },
  {
   "cell_type": "code",
   "execution_count": 13,
   "id": "70fa2f0d-4739-4511-b482-6975547dc3ea",
   "metadata": {},
   "outputs": [
    {
     "name": "stdout",
     "output_type": "stream",
     "text": [
      "30\n"
     ]
    }
   ],
   "source": [
    "# Function  to add 2 numbers (method 1)\n",
    "def Sum(a,b):\n",
    "    sum = a+b\n",
    "    return sum \n",
    "print(Sum(10,20))"
   ]
  },
  {
   "cell_type": "code",
   "execution_count": 14,
   "id": "cddb70cb-b502-4603-9d31-ca315ee31da3",
   "metadata": {},
   "outputs": [
    {
     "name": "stdout",
     "output_type": "stream",
     "text": [
      "27\n"
     ]
    }
   ],
   "source": [
    "#Function  to add 2 numbers (method 2)\n",
    "def Sum(a,b):\n",
    "    return a+b\n",
    "s = Sum(13,14)\n",
    "print(s)"
   ]
  },
  {
   "cell_type": "code",
   "execution_count": 15,
   "id": "9532d806-f6b1-4093-a2b2-ccb622978cd1",
   "metadata": {},
   "outputs": [
    {
     "name": "stdout",
     "output_type": "stream",
     "text": [
      "hello\n",
      "hello\n",
      "None\n"
     ]
    }
   ],
   "source": [
    "#Fuction to print hello\n",
    "def print_hello():\n",
    "    print(\"hello\")\n",
    "    return \n",
    "print_hello()\n",
    "print(print_hello())"
   ]
  },
  {
   "cell_type": "code",
   "execution_count": 16,
   "id": "8618a258-cc3e-480f-b233-6d0ca885a60d",
   "metadata": {},
   "outputs": [
    {
     "name": "stdout",
     "output_type": "stream",
     "text": [
      "1.0\n"
     ]
    },
    {
     "data": {
      "text/plain": [
       "1.0"
      ]
     },
     "execution_count": 16,
     "metadata": {},
     "output_type": "execute_result"
    }
   ],
   "source": [
    "#Function to find average of 2 numbers \n",
    "def avg(a,b,c):\n",
    "    average = (a+b+c)/3\n",
    "    print(average)\n",
    "    return average\n",
    "avg(1,1,1)"
   ]
  },
  {
   "cell_type": "code",
   "execution_count": 17,
   "id": "6f67352c-2cd6-4ca0-944b-139ee7a5d237",
   "metadata": {},
   "outputs": [
    {
     "name": "stdout",
     "output_type": "stream",
     "text": [
      "3\n",
      "4\n"
     ]
    }
   ],
   "source": [
    "#Function to print the length of a list\n",
    "L = [\"apple\",\"banana\",\"cherry\"] \n",
    "L2 =[\"delhi\",\"mumbai\",\"kolkata\",\"pune\"]\n",
    "def list_len(list):\n",
    "    print(len(list))\n",
    "list_len(L)\n",
    "list_len(L2)"
   ]
  },
  {
   "cell_type": "code",
   "execution_count": 18,
   "id": "b61aacd3-6ccc-477c-9222-0faab0b86b4a",
   "metadata": {},
   "outputs": [
    {
     "name": "stdout",
     "output_type": "stream",
     "text": [
      "['apple', 'banana', 'cherry'] ['delhi', 'mumbai', 'kolkata', 'pune'] "
     ]
    }
   ],
   "source": [
    "#Function to print the list elements in a single line \n",
    "def list_print(list):\n",
    "    for item in L,L2:\n",
    "        print(item,end=\" \")\n",
    "list_print(L2)"
   ]
  },
  {
   "cell_type": "code",
   "execution_count": 19,
   "id": "1dbfca0a-8072-47a4-a931-c9ea69ff7b50",
   "metadata": {},
   "outputs": [
    {
     "name": "stdout",
     "output_type": "stream",
     "text": [
      "720\n"
     ]
    }
   ],
   "source": [
    "#Function to calculate the factorial of a given number \n",
    "def factorial(n):\n",
    "    fact = 1 \n",
    "    for i in range(1,n+1):\n",
    "        fact = fact*i\n",
    "    print(fact)\n",
    "factorial(6)"
   ]
  },
  {
   "cell_type": "code",
   "execution_count": 20,
   "id": "8624d918-1150-4840-9855-102f95d94a6a",
   "metadata": {},
   "outputs": [
    {
     "name": "stdout",
     "output_type": "stream",
     "text": [
      "3 USD =  249 INR\n"
     ]
    },
    {
     "data": {
      "text/plain": [
       "249"
      ]
     },
     "execution_count": 20,
     "metadata": {},
     "output_type": "execute_result"
    }
   ],
   "source": [
    "#Function to calculate usd to INR \n",
    "def calc_INR(usd):\n",
    "    inr = usd*83\n",
    "    print(usd,\"USD = \",inr,\"INR\")\n",
    "    return inr \n",
    "calc_INR(3)"
   ]
  },
  {
   "cell_type": "code",
   "execution_count": 21,
   "id": "3603df97-f35b-4a91-8459-a96ebcb65c51",
   "metadata": {},
   "outputs": [
    {
     "name": "stdout",
     "output_type": "stream",
     "text": [
      "2 is even\n",
      "3 is odd\n",
      "4 is even\n",
      "5 is odd\n",
      "6 is even\n"
     ]
    }
   ],
   "source": [
    "#Function to determine odd or even number\n",
    "def odd_even(n):\n",
    "    if n%2 == 0:\n",
    "        print(n,\"is even\")\n",
    "    else:\n",
    "        print(n,\"is odd\")\n",
    "odd_even(2)\n",
    "odd_even(3)\n",
    "odd_even(4)\n",
    "odd_even(5)\n",
    "odd_even(6)"
   ]
  },
  {
   "cell_type": "code",
   "execution_count": null,
   "id": "723356d2-cb33-4f6d-9257-0c15b1892e50",
   "metadata": {},
   "outputs": [],
   "source": []
  }
 ],
 "metadata": {
  "kernelspec": {
   "display_name": "Python 3 (ipykernel)",
   "language": "python",
   "name": "python3"
  },
  "language_info": {
   "codemirror_mode": {
    "name": "ipython",
    "version": 3
   },
   "file_extension": ".py",
   "mimetype": "text/x-python",
   "name": "python",
   "nbconvert_exporter": "python",
   "pygments_lexer": "ipython3",
   "version": "3.11.7"
  }
 },
 "nbformat": 4,
 "nbformat_minor": 5
}
