{
 "cells": [
  {
   "cell_type": "code",
   "execution_count": 3,
   "id": "9036c648-dea2-46ae-843c-496bdb479c35",
   "metadata": {},
   "outputs": [
    {
     "name": "stdout",
     "output_type": "stream",
     "text": [
      "Making call\n",
      "Playing games\n"
     ]
    }
   ],
   "source": [
    "class Phone:\n",
    "    def make_call(self):\n",
    "        print(\"Making call\")\n",
    "        \n",
    "    def play_game(self):\n",
    "        print(\"Playing games\")\n",
    "\n",
    "p1 = Phone()\n",
    "p1.make_call()\n",
    "p2 = Phone()\n",
    "p2.play_game()\n"
   ]
  },
  {
   "cell_type": "code",
   "execution_count": 8,
   "id": "cb3b2df6-be11-4224-8b96-a50880105723",
   "metadata": {},
   "outputs": [
    {
     "name": "stdout",
     "output_type": "stream",
     "text": [
      "red\n",
      "340000\n"
     ]
    }
   ],
   "source": [
    "class Phone:\n",
    "\n",
    "    def set_color(self,color):\n",
    "        self.color = color\n",
    "\n",
    "    def set_cost(self,cost):\n",
    "        self.cost = cost \n",
    "\n",
    "    def show_color(self):\n",
    "        return self.color\n",
    "\n",
    "    def show_cost(self):\n",
    "        return self.cost\n",
    "\n",
    "p1 = Phone()\n",
    "p1.set_color('red') \n",
    "p1.set_cost(340000)\n",
    "\n",
    "print(p1.show_color())\n",
    "print(p1.show_cost())"
   ]
  },
  {
   "cell_type": "code",
   "execution_count": 15,
   "id": "954024b4-1602-4922-878f-0176b7c58ff6",
   "metadata": {},
   "outputs": [
    {
     "name": "stdout",
     "output_type": "stream",
     "text": [
      "Name of employee is :  Ashish\n",
      "Age of employee is :  22\n",
      "Salary of employee is :  1cr\n",
      "Gender of employee is :  Male\n"
     ]
    }
   ],
   "source": [
    "class Employee :\n",
    "    def __init__(self,name,age,salary,gender):\n",
    "        self.name = name\n",
    "        self.age = age \n",
    "        self.salary = salary \n",
    "        self.gender = gender\n",
    "\n",
    "    def employee_details(self):\n",
    "        print('Name of employee is : ',self.name)\n",
    "        print('Age of employee is : ',self.age)\n",
    "        print('Salary of employee is : ',self.salary)\n",
    "        print('Gender of employee is : ',self.gender)\n",
    "\n",
    "e1 = Employee('Ashish',22,'1cr','Male')\n",
    "e1.employee_details()"
   ]
  },
  {
   "cell_type": "markdown",
   "id": "c2a6425b-01f1-46f5-ba67-357ef4ea54a7",
   "metadata": {},
   "source": [
    "# Inheritance"
   ]
  },
  {
   "cell_type": "code",
   "execution_count": 16,
   "id": "79c2a236-2a6d-42e0-8bcf-2ed22bb2db8d",
   "metadata": {},
   "outputs": [
    {
     "name": "stdout",
     "output_type": "stream",
     "text": [
      "The mileage of the vehicle is  25\n",
      "The cost of the vehicle is  500\n",
      "I am a Vehicle\n"
     ]
    }
   ],
   "source": [
    "# Parent class\n",
    "class Vehicle :\n",
    "    def __init__(self,mileage,cost):\n",
    "        self.mileage = mileage\n",
    "        self.cost = cost\n",
    "\n",
    "    def show_details(self):\n",
    "        print('The mileage of the vehicle is ',self.mileage)\n",
    "        print('The cost of the vehicle is ',self.cost)\n",
    "        print('I am a Vehicle')\n",
    "\n",
    "v1 = Vehicle(25,500)\n",
    "v1.show_details()"
   ]
  },
  {
   "cell_type": "code",
   "execution_count": 19,
   "id": "d2aa53bb-2d5d-4572-97bb-3e2a137e5075",
   "metadata": {},
   "outputs": [
    {
     "name": "stdout",
     "output_type": "stream",
     "text": [
      "The mileage of the vehicle is  30\n",
      "The cost of the vehicle is  700\n",
      "I am a Vehicle\n",
      "I am a Car\n",
      "Number of tyres are  4\n",
      "Value of horse power is  3000\n"
     ]
    }
   ],
   "source": [
    "# Child Class inheriting parent class (Vehicle)\n",
    "class Car(Vehicle):\n",
    "    def __init__(self,mileage,cost,tyres,hp):\n",
    "        super().__init__(mileage,cost)\n",
    "        self.tyres = tyres \n",
    "        self.hp = hp\n",
    "     \n",
    "    def show_car_details(self):\n",
    "        print('I am a Car')\n",
    "        print('Number of tyres are ',self.tyres)\n",
    "        print('Value of horse power is ',self.hp)\n",
    "\n",
    "c1 = Car(30,700,4,3000)\n",
    "c1.show_details()\n",
    "c1.show_car_details()"
   ]
  },
  {
   "cell_type": "code",
   "execution_count": null,
   "id": "72c89f88-8c7c-4f40-ab36-fde88248b7e4",
   "metadata": {},
   "outputs": [],
   "source": []
  }
 ],
 "metadata": {
  "kernelspec": {
   "display_name": "Python 3 (ipykernel)",
   "language": "python",
   "name": "python3"
  },
  "language_info": {
   "codemirror_mode": {
    "name": "ipython",
    "version": 3
   },
   "file_extension": ".py",
   "mimetype": "text/x-python",
   "name": "python",
   "nbconvert_exporter": "python",
   "pygments_lexer": "ipython3",
   "version": "3.11.7"
  }
 },
 "nbformat": 4,
 "nbformat_minor": 5
}
