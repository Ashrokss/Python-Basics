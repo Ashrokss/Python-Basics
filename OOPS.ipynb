{
 "cells": [
  {
   "cell_type": "markdown",
   "id": "414a479b-7ec8-46d6-a557-ba5cd8cac9b6",
   "metadata": {},
   "source": [
    "# OOPS introduction \n",
    "1. Object : A \"bundle\" of related attributes (variables) and methods(function) example: phone,cup,book \n",
    "you need a \"class\" to create many objects \n",
    "2. class : (blueprint) used to design the structure and layout of an object\n",
    "\n",
    "[OOPS Study material](https://pynative.com/python/object-oriented-programming/)"
   ]
  },
  {
   "cell_type": "markdown",
   "id": "452aaefe-088d-4b05-b3d2-18d20404d8cf",
   "metadata": {},
   "source": [
    "# Class Definition "
   ]
  },
  {
   "cell_type": "code",
   "execution_count": 1,
   "id": "3b600fcf-7535-46ca-90c5-51a4d4fe9ef7",
   "metadata": {},
   "outputs": [
    {
     "name": "stdout",
     "output_type": "stream",
     "text": [
      "Ashish\n",
      "Blue\n",
      "Blue\n"
     ]
    }
   ],
   "source": [
    "\n",
    "class Student:\n",
    "    name = \"Ashish\"\n",
    "s1 = Student()  # Creating an object/Instance of a class\n",
    "print(s1.name)\n",
    "\n",
    "class cars:\n",
    "    color= \"Blue\"\n",
    "c1 = cars()\n",
    "print(c1.color)\n",
    "c2 = cars()\n",
    "print(c2.color)"
   ]
  },
  {
   "cell_type": "markdown",
   "id": "847b19c0-177a-4318-b4f5-928323101d01",
   "metadata": {},
   "source": [
    "# __init__Function (Constructor) Parameterized Constructor\n"
   ]
  },
  {
   "cell_type": "code",
   "execution_count": null,
   "id": "d240b334-6b42-4ef6-956d-aad0b72f2e63",
   "metadata": {},
   "outputs": [],
   "source": [
    "\n",
    "class Student:\n",
    "    print(\"Adding new students to database...\")\n",
    "    def __init__(self,name,marks):\n",
    "        self.name = name\n",
    "        self.marks = marks        \n",
    "s1 = Student(\"Ashish Pal\",97)\n",
    "s2 = Student(\"Harsh Mehta\",90)\n",
    "s3 = Student(\"Aryan Gupta\",89)\n",
    "s4 = Student(\"Rohan Singh\",67)\n",
    "s5 = Student(\"Rahul Roy\",70)\n",
    "print(s1.name,s1.marks)\n",
    "print(s2.name,s2.marks)\n",
    "print(s3.name,s3.marks)\n",
    "print(s4.name,s4.marks)\n"
   ]
  },
  {
   "cell_type": "markdown",
   "id": "12f10bb0-72a2-47aa-8440-6241db2622b5",
   "metadata": {},
   "source": [
    "# Example"
   ]
  },
  {
   "cell_type": "code",
   "execution_count": 29,
   "id": "6169423b-20bd-4931-91b7-4394f04b3fa5",
   "metadata": {},
   "outputs": [
    {
     "name": "stdout",
     "output_type": "stream",
     "text": [
      "You drive the red Mustang.\n",
      "You stop the red Mustang\n",
      "2024 red Mustang\n",
      "The Mustang is for sale ? False \n",
      "\n",
      "You drive the blue Corvet.\n",
      "You stop the blue Corvet\n",
      "2025 blue Corvet\n",
      "The Corvet is for sale ? True \n",
      "\n",
      "You drive the Yellow Charger.\n",
      "You stop the Yellow Charger\n",
      "2026 Yellow Charger\n",
      "The Charger is for sale ? True \n"
     ]
    }
   ],
   "source": [
    "class Car : \n",
    "    def __init__(self,model,year,color,for_sale):\n",
    "        self.model = model \n",
    "        self.year  = year \n",
    "        self.color = color \n",
    "        self.for_sale = for_sale \n",
    "     # Mwthod 1   \n",
    "    def drive(self):\n",
    "        print(f\"You drive the {self.color} {self.model}.\")\n",
    "    # Method 2\n",
    "    def stop(self):\n",
    "        print(f\"You stop the {self.color} {self.model}\") \n",
    "\n",
    "    def describe(self):\n",
    "        print(f\"{self.year} {self.color} {self.model}\")\n",
    "        print(f\"The {self.model} is for sale ? {self.for_sale} \")\n",
    "        \n",
    "\n",
    "car1 = Car(\"Mustang\",2024,\"red\",False) # object 1\n",
    "car2 = Car(\"Corvet\",2025,'blue',True)  # object 2\n",
    "car3 = Car(\"Charger\",2026,'Yellow',True) # object 3\n",
    "\n",
    "car1.drive()\n",
    "car1.stop()\n",
    "car1.describe()\n",
    "print(\"\")\n",
    "car2.drive()\n",
    "car2.stop()\n",
    "car2.describe()\n",
    "print(\"\")\n",
    "car3.drive()\n",
    "car3.stop()\n",
    "car3.describe()"
   ]
  },
  {
   "cell_type": "markdown",
   "id": "3b765e58-93c5-4cf4-be18-1ba0990b8bdc",
   "metadata": {},
   "source": [
    "# Class variables in python \n",
    "class variables = Shared among all instances of a class ,dDefined outside the construc ,a Allow you to share data among all objects created from that class\r\n"
   ]
  },
  {
   "cell_type": "code",
   "execution_count": 47,
   "id": "d79d666d-4b14-4bbd-b9d5-05b11f695d75",
   "metadata": {},
   "outputs": [
    {
     "name": "stdout",
     "output_type": "stream",
     "text": [
      "My graduating class of 2024 has 4\n",
      "Spngebob\n",
      "Patrick\n",
      "Ashish\n",
      "Sandy\n"
     ]
    }
   ],
   "source": [
    "class Student:\n",
    "    # Class variable\n",
    "    class_year = 2024\n",
    "    num_students = 0\n",
    "\n",
    "    def __init__(self,name,age):\n",
    "        self.name = name \n",
    "        self.age = age\n",
    "        Student.num_students +=1\n",
    "        \n",
    "student1 = Student(\"Spngebob\",30)\n",
    "student2 = Student(\"Patrick\",35)\n",
    "student3 = Student(\"Ashish\",22)\n",
    "student4 = Student(\"Sandy\",24)\n",
    "\n",
    "print(f\"My graduating class of {Student.class_year} has {Student.num_students}\")\n",
    "print(student1.name)\n",
    "print(student2.name)\n",
    "print(student3.name)\n",
    "print(student4.name)"
   ]
  },
  {
   "cell_type": "markdown",
   "id": "cd4b0f02-cdb7-403e-a632-5b0ed6c8e87d",
   "metadata": {},
   "source": [
    "# Inheritance"
   ]
  },
  {
   "cell_type": "markdown",
   "id": "bf6518a4-b5ab-44ea-a339-9cd80f040ed0",
   "metadata": {},
   "source": [
    "The process of inheriting the properties of the parent class into a child class is called inheritance. The existing class is called a base class or parent class and the new class is called a subclass or child class or derived class."
   ]
  },
  {
   "cell_type": "markdown",
   "id": "af452cb2-e381-4c33-ac2a-bd2ec47a0817",
   "metadata": {},
   "source": [
    "## Syntax"
   ]
  },
  {
   "cell_type": "code",
   "execution_count": null,
   "id": "a3f86416-e638-4f25-9306-172c4b7bdbed",
   "metadata": {},
   "outputs": [],
   "source": [
    "# class BaseClass:\n",
    "#   Body of base class\n",
    "# class DerivedClass(BaseClass):\n",
    "#   Body of derived class"
   ]
  },
  {
   "cell_type": "code",
   "execution_count": 2,
   "id": "8949bbe8-a394-4c8e-9c7c-44f031f09a31",
   "metadata": {},
   "outputs": [
    {
     "name": "stdout",
     "output_type": "stream",
     "text": [
      "The mileage of the vehicle is  25\n",
      "The cost of the vehicle is  500\n",
      "I am a Vehicle\n"
     ]
    }
   ],
   "source": [
    "# Parent class\n",
    "class Vehicle :\n",
    "    def __init__(self,mileage,cost):\n",
    "        self.mileage = mileage\n",
    "        self.cost = cost\n",
    "\n",
    "    def show_details(self):\n",
    "        print('The mileage of the vehicle is ',self.mileage)\n",
    "        print('The cost of the vehicle is ',self.cost)\n",
    "        print('I am a Vehicle')\n",
    "\n",
    "v1 = Vehicle(25,500)\n",
    "v1.show_details()"
   ]
  },
  {
   "cell_type": "code",
   "execution_count": 3,
   "id": "a0c5e027-c200-4afa-91a7-947a61ab1692",
   "metadata": {},
   "outputs": [
    {
     "name": "stdout",
     "output_type": "stream",
     "text": [
      "The mileage of the vehicle is  30\n",
      "The cost of the vehicle is  700\n",
      "I am a Vehicle\n",
      "I am a Car\n",
      "Number of tyres are  4\n",
      "Value of horse power is  3000\n"
     ]
    }
   ],
   "source": [
    "# Child Class inheriting parent class (Vehicle)\n",
    "class Car(Vehicle):\n",
    "    def __init__(self,mileage,cost,tyres,hp):\n",
    "        super().__init__(mileage,cost)\n",
    "        self.tyres = tyres \n",
    "        self.hp = hp\n",
    "     \n",
    "    def show_car_details(self):\n",
    "        print('I am a Car')\n",
    "        print('Number of tyres are ',self.tyres)\n",
    "        print('Value of horse power is ',self.hp)\n",
    "\n",
    "c1 = Car(30,700,4,3000)\n",
    "c1.show_details()\n",
    "c1.show_car_details()"
   ]
  },
  {
   "cell_type": "markdown",
   "id": "e5a68211-c1e6-42b4-91a4-ff3616581402",
   "metadata": {},
   "source": [
    "# Types Of Inheritance"
   ]
  },
  {
   "cell_type": "markdown",
   "id": "92bc1a0e-b25d-4788-88b7-14a82b5d2200",
   "metadata": {},
   "source": [
    "In Python, based upon the number of child and parent classes involved, there are five types of inheritance. The type of inheritance are listed below:\n",
    "\n",
    "1. Single inheritance\n",
    "2. Multiple Inheritance\n",
    "3. Multilevel inheritance\n",
    "4. Hierarchical Inheritance\n",
    "5. Hybrid Inheritance"
   ]
  },
  {
   "cell_type": "markdown",
   "id": "04590c73-d711-44a7-8daf-21005bee8db5",
   "metadata": {},
   "source": [
    "## Single Inheritance"
   ]
  },
  {
   "cell_type": "markdown",
   "id": "63c68f3d-83c8-437f-bca1-e3c5abfb9ab7",
   "metadata": {},
   "source": [
    "In single inheritance, a child class inherits from a single-parent class. Here is one child class and one parent class.\n",
    "\n"
   ]
  },
  {
   "cell_type": "code",
   "execution_count": 4,
   "id": "ea911e9b-b1ce-49ec-9e63-f9d15d2a1c43",
   "metadata": {},
   "outputs": [
    {
     "name": "stdout",
     "output_type": "stream",
     "text": [
      "Inside Vehicle class\n",
      "Inside Car class\n"
     ]
    }
   ],
   "source": [
    "# Example \n",
    "# Base class\n",
    "class Vehicle:\n",
    "    def Vehicle_info(self):\n",
    "        print('Inside Vehicle class')\n",
    "\n",
    "# Child class\n",
    "class Car(Vehicle):\n",
    "    def car_info(self):\n",
    "        print('Inside Car class')\n",
    "\n",
    "# Create object of Car\n",
    "car = Car()\n",
    "\n",
    "# access Vehicle's info using car object\n",
    "car.Vehicle_info()\n",
    "car.car_info()\n"
   ]
  },
  {
   "cell_type": "markdown",
   "id": "c6b3b950-3f65-4f27-8069-53f9aa0acaf7",
   "metadata": {},
   "source": [
    "## Multiple Inheritance"
   ]
  },
  {
   "cell_type": "code",
   "execution_count": null,
   "id": "7ffeabe0-0067-4473-9268-ab1343209aaf",
   "metadata": {},
   "outputs": [],
   "source": []
  },
  {
   "cell_type": "code",
   "execution_count": null,
   "id": "d815d4b1-b70e-4f26-b3c8-79d2be45de41",
   "metadata": {},
   "outputs": [],
   "source": []
  },
  {
   "cell_type": "code",
   "execution_count": null,
   "id": "f83c937d-1e05-4f15-830c-13b0dca68e99",
   "metadata": {},
   "outputs": [],
   "source": []
  },
  {
   "cell_type": "code",
   "execution_count": null,
   "id": "b523435c-bbb0-4b3f-9a80-93c4a69253e0",
   "metadata": {},
   "outputs": [],
   "source": []
  },
  {
   "cell_type": "markdown",
   "id": "99a9f088-bac7-43e8-81c6-b40c4c5b825c",
   "metadata": {},
   "source": [
    "## Multilevel inheritance"
   ]
  },
  {
   "cell_type": "code",
   "execution_count": null,
   "id": "1b83d851-b543-4803-b6a1-ea32f233bc23",
   "metadata": {},
   "outputs": [],
   "source": []
  },
  {
   "cell_type": "code",
   "execution_count": null,
   "id": "40effb16-fc8e-4694-8771-0fc8e87efdc1",
   "metadata": {},
   "outputs": [],
   "source": []
  },
  {
   "cell_type": "code",
   "execution_count": null,
   "id": "f2790b78-26da-4e21-8692-a07fb3625cf4",
   "metadata": {},
   "outputs": [],
   "source": []
  },
  {
   "cell_type": "markdown",
   "id": "1732cda8-ef3e-4b05-aa6a-59807a8ff50b",
   "metadata": {},
   "source": [
    "## Hierarchical Inheritance"
   ]
  },
  {
   "cell_type": "code",
   "execution_count": null,
   "id": "8b42037e-0445-405f-bba9-64afbb33ee91",
   "metadata": {},
   "outputs": [],
   "source": []
  },
  {
   "cell_type": "code",
   "execution_count": null,
   "id": "7854011e-dd95-4214-b5ce-cb19f82f1bce",
   "metadata": {},
   "outputs": [],
   "source": []
  },
  {
   "cell_type": "code",
   "execution_count": null,
   "id": "61895d7b-3d44-45ac-b1fb-7715b888691d",
   "metadata": {},
   "outputs": [],
   "source": []
  },
  {
   "cell_type": "markdown",
   "id": "3c8c891a-cb6a-4452-b5b7-bebea351df87",
   "metadata": {},
   "source": [
    "## Hybrid Inheritance"
   ]
  },
  {
   "cell_type": "code",
   "execution_count": null,
   "id": "7822f2ec-46b7-4ba1-9bdb-dc92b261e05e",
   "metadata": {},
   "outputs": [],
   "source": []
  },
  {
   "cell_type": "code",
   "execution_count": null,
   "id": "37c94027-7c97-439a-973f-8d7380e4aac2",
   "metadata": {},
   "outputs": [],
   "source": []
  },
  {
   "cell_type": "code",
   "execution_count": null,
   "id": "f84d73be-9d45-4fa0-ac19-79a7f1fae99e",
   "metadata": {},
   "outputs": [],
   "source": []
  },
  {
   "cell_type": "code",
   "execution_count": null,
   "id": "9e730165-37c8-465a-9a45-aca1543388a7",
   "metadata": {},
   "outputs": [],
   "source": []
  },
  {
   "cell_type": "code",
   "execution_count": null,
   "id": "74f898c7-65c4-43ca-81cb-70bfe586d048",
   "metadata": {},
   "outputs": [],
   "source": []
  },
  {
   "cell_type": "markdown",
   "id": "722fe23f-81cb-4c6e-9900-3f0ba0698d87",
   "metadata": {},
   "source": [
    "# Practice Problems \n",
    "[Exercise Link](https://pynative.com/python-object-oriented-programming-oop-exercise/)\n",
    "1. Write a Python program to create a Vehicle class with max_speed and mileage instance attributes."
   ]
  },
  {
   "cell_type": "code",
   "execution_count": 5,
   "id": "bfb6a137-ee9f-4f7f-95d1-aee1cf2d6494",
   "metadata": {},
   "outputs": [
    {
     "name": "stdout",
     "output_type": "stream",
     "text": [
      "100 is the max speed and 50 is the mileage\n"
     ]
    }
   ],
   "source": [
    "#Solution:\n",
    "class Vehicle:\n",
    "    def __init__(self,max_speed,mileage):\n",
    "        self.max_speed = max_speed\n",
    "        self.mileage = mileage\n",
    "v1 = Vehicle(100,50)\n",
    "\n",
    "print(f\"{v1.max_speed} is the max speed and {v1.mileage} is the mileage\")\n",
    "        "
   ]
  },
  {
   "cell_type": "markdown",
   "id": "c2a0897c-f4c6-4a0c-bb8d-13eb01424429",
   "metadata": {},
   "source": [
    "2. Create a Vehicle class without any variables and methods"
   ]
  },
  {
   "cell_type": "code",
   "execution_count": 6,
   "id": "535e3779-f26e-47a9-9d23-14574b2d0f6d",
   "metadata": {},
   "outputs": [],
   "source": [
    "#Solution:\n",
    "class Vehicles:\n",
    "    pass \n",
    "        "
   ]
  },
  {
   "cell_type": "markdown",
   "id": "1ab17e6b-abb9-4506-b639-501b44b63e8b",
   "metadata": {},
   "source": [
    "3. Create a child class Bus that will inherit all of the variables and methods of the Vehicle class\n",
    "Given:"
   ]
  },
  {
   "cell_type": "code",
   "execution_count": null,
   "id": "ae764da9-9e84-4461-b2d4-24d4b302208c",
   "metadata": {},
   "outputs": [],
   "source": [
    "# class Vehicle:\n",
    "\n",
    "#     def __init__(self, name, max_speed, mileage):\n",
    "#         self.name = name\n",
    "#         self.max_speed = max_speed\n",
    "#         self.mileage = mileage"
   ]
  },
  {
   "cell_type": "code",
   "execution_count": 8,
   "id": "73210f02-85e7-4b6a-b3cb-4a4abfbb8a3c",
   "metadata": {},
   "outputs": [
    {
     "name": "stdout",
     "output_type": "stream",
     "text": [
      "Vehicle name : Volvo\n",
      "Speed : 100\n",
      "Mileage : 250\n"
     ]
    }
   ],
   "source": [
    "#Solution :\n",
    "class Vehicle:\n",
    "\n",
    "    def __init__(self, name, max_speed, mileage):\n",
    "        self.name = name\n",
    "        self.max_speed = max_speed\n",
    "        self.mileage = mileage\n",
    "\n",
    "class Bus(Vehicle):\n",
    "    def __init__(self,name,max_speed,mileage):\n",
    "        super().__init__(name,max_speed,mileage)\n",
    "    def show_details(self):\n",
    "        print('Vehicle name :',self.name)\n",
    "        print('Speed :',self.max_speed)\n",
    "        print('Mileage :',self.mileage)\n",
    "        \n",
    "\n",
    "b1 = Bus('Volvo',100,250)\n",
    "b1.show_details()\n",
    "        "
   ]
  },
  {
   "cell_type": "code",
   "execution_count": null,
   "id": "2d7b69c5-910e-400f-a449-2a0f983c9107",
   "metadata": {},
   "outputs": [],
   "source": []
  },
  {
   "cell_type": "code",
   "execution_count": null,
   "id": "65ab4053-5381-4eb5-b29a-3d427dd88b86",
   "metadata": {},
   "outputs": [],
   "source": []
  }
 ],
 "metadata": {
  "kernelspec": {
   "display_name": "Python 3 (ipykernel)",
   "language": "python",
   "name": "python3"
  },
  "language_info": {
   "codemirror_mode": {
    "name": "ipython",
    "version": 3
   },
   "file_extension": ".py",
   "mimetype": "text/x-python",
   "name": "python",
   "nbconvert_exporter": "python",
   "pygments_lexer": "ipython3",
   "version": "3.11.7"
  }
 },
 "nbformat": 4,
 "nbformat_minor": 5
}
